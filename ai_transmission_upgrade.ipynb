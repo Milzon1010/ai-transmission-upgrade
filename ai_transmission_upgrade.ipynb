{
 "cells": [
  {
   "cell_type": "markdown",
   "id": "438597b5",
   "metadata": {},
   "source": [
    "# AI for Transmission Capacity Upgrade Prediction\n",
    "\n",
    "This notebook demonstrates how to use machine learning to predict whether a fiber or microwave link requires a capacity upgrade based on historical KPI data."
   ]
  },
  {
   "cell_type": "markdown",
   "id": "80247ae3",
   "metadata": {},
   "source": [
    "## Step 1: Load Dataset"
   ]
  },
  {
   "cell_type": "code",
   "execution_count": null,
   "id": "2ff823a2",
   "metadata": {},
   "outputs": [],
   "source": [
    "import pandas as pd\n",
    "\n",
    "df = pd.read_csv(\"link_kpi_data_dummy.csv\")\n",
    "df.head()"
   ]
  },
  {
   "cell_type": "markdown",
   "id": "a29c9661",
   "metadata": {},
   "source": [
    "## Step 2: Visualize KPI Trends"
   ]
  },
  {
   "cell_type": "code",
   "execution_count": null,
   "id": "66f00844",
   "metadata": {},
   "outputs": [],
   "source": [
    "import matplotlib.pyplot as plt\n",
    "import seaborn as sns\n",
    "\n",
    "sns.histplot(df['traffic_utilization'], bins=30, kde=True)\n",
    "plt.title(\"Distribution of Traffic Utilization\")\n",
    "plt.show()\n",
    "\n",
    "sns.boxplot(x='upgrade_needed', y='latency_ms', data=df)\n",
    "plt.title(\"Latency by Upgrade Need\")\n",
    "plt.show()"
   ]
  },
  {
   "cell_type": "markdown",
   "id": "f2dcc36f",
   "metadata": {},
   "source": [
    "## Step 3: Train Machine Learning Model"
   ]
  },
  {
   "cell_type": "code",
   "execution_count": null,
   "id": "2d0424fd",
   "metadata": {},
   "outputs": [],
   "source": [
    "from sklearn.model_selection import train_test_split\n",
    "from sklearn.ensemble import RandomForestClassifier\n",
    "\n",
    "X = df[[\"traffic_utilization\", \"ber\", \"latency_ms\", \"jitter_ms\", \"downtime_minutes\"]]\n",
    "y = df[\"upgrade_needed\"]\n",
    "\n",
    "X_train, X_test, y_train, y_test = train_test_split(X, y, test_size=0.3, random_state=42)\n",
    "\n",
    "model = RandomForestClassifier(n_estimators=100, random_state=42)\n",
    "model.fit(X_train, y_train)\n",
    "\n",
    "y_pred = model.predict(X_test)"
   ]
  },
  {
   "cell_type": "markdown",
   "id": "a34b3822",
   "metadata": {},
   "source": [
    "## Step 4: Evaluate Model"
   ]
  },
  {
   "cell_type": "code",
   "execution_count": null,
   "id": "67abecb2",
   "metadata": {},
   "outputs": [],
   "source": [
    "from sklearn.metrics import classification_report, confusion_matrix\n",
    "\n",
    "print(confusion_matrix(y_test, y_pred))\n",
    "print(classification_report(y_test, y_pred))"
   ]
  },
  {
   "cell_type": "markdown",
   "id": "3009086e",
   "metadata": {},
   "source": [
    "## Step 5: Feature Importance"
   ]
  },
  {
   "cell_type": "code",
   "execution_count": null,
   "id": "3bf66e3f",
   "metadata": {},
   "outputs": [],
   "source": [
    "importances = model.feature_importances_\n",
    "features = X.columns\n",
    "sns.barplot(x=importances, y=features)\n",
    "plt.title(\"Feature Importance\")\n",
    "plt.show()"
   ]
  }
 ],
 "metadata": {},
 "nbformat": 4,
 "nbformat_minor": 5
}
